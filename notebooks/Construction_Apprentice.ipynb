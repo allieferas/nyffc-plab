{
 "cells": [
  {
   "cell_type": "code",
   "execution_count": 2,
   "metadata": {
    "executionInfo": {
     "elapsed": 609,
     "status": "ok",
     "timestamp": 1741555260815,
     "user": {
      "displayName": "Catie Fuentes",
      "userId": "04891715974998585010"
     },
     "user_tz": 240
    },
    "id": "_RnimAnXxsqw"
   },
   "outputs": [],
   "source": [
    "import pandas as pd\n",
    "\n",
    "# Load the dataset\n",
    "df = pd.read_csv('Construction Apprentice Program Sponsors & Signatories as of Oct 2024.xlsx - All Program Participants (2).csv')\n",
    "\n",
    "# Standardizing column names: converting to lowercase and replacing spaces with underscores\n",
    "df.columns = df.columns.str.lower().str.replace(\" \", \"_\")\n",
    "\n",
    "# Handling missing values\n",
    "df = df.fillna(\"Unknown\")  # Replace missing values with 'Unknown'\n",
    "\n",
    "# Standardizing text columns: trimming spaces, converting to uppercase\n",
    "text_columns = [\"sponsor\", \"trade\", \"signatory_name\", \"signatory_address\", \"city\", \"state\", \"source\"]\n",
    "for col in text_columns:\n",
    "    df[col] = df[col].str.strip().str.upper()\n",
    "\n",
    "# Standardizing Zip Code format: ensuring it's a string\n",
    "df[\"zip_code\"] = df[\"zip_code\"].astype(str).str.zfill(5)\n",
    "\n",
    "# Standardizing date format\n",
    "df[\"date_signatory_added\"] = pd.to_datetime(df[\"date_signatory_added\"], errors=\"coerce\")\n"
   ]
  },
  {
   "cell_type": "code",
   "execution_count": 3,
   "metadata": {
    "colab": {
     "base_uri": "https://localhost:8080/",
     "height": 380
    },
    "executionInfo": {
     "elapsed": 663,
     "status": "ok",
     "timestamp": 1741555314898,
     "user": {
      "displayName": "Catie Fuentes",
      "userId": "04891715974998585010"
     },
     "user_tz": 240
    },
    "id": "6kPWTH7RySKt",
    "outputId": "bf7dd6c5-202c-4294-befa-721ad9a1fe65"
   },
   "outputs": [
    {
     "data": {
      "application/vnd.google.colaboratory.intrinsic+json": {
       "summary": "{\n  \"name\": \"df\",\n  \"rows\": 39122,\n  \"fields\": [\n    {\n      \"column\": \"sponsor\",\n      \"properties\": {\n        \"dtype\": \"category\",\n        \"num_unique_values\": 415,\n        \"samples\": [\n          \"BRICKLAYERS AND ALLIED CRAFTWORKERS LU #5 NY\",\n          \"GENERAL BUILDING LABORERS' LU #66 TRAINING FUND\",\n          \"IRONWORKERS LOCAL 6 JAT/JRT\"\n        ],\n        \"semantic_type\": \"\",\n        \"description\": \"\"\n      }\n    },\n    {\n      \"column\": \"trade\",\n      \"properties\": {\n        \"dtype\": \"category\",\n        \"num_unique_values\": 67,\n        \"samples\": [\n          \"STATIONARY ENGINEER\",\n          \"PLUMBER AND PIPEFITTER\",\n          \"OPTG. ENGINEER (HEAVY EQUIPMENT)\"\n        ],\n        \"semantic_type\": \"\",\n        \"description\": \"\"\n      }\n    },\n    {\n      \"column\": \"signatory_name\",\n      \"properties\": {\n        \"dtype\": \"category\",\n        \"num_unique_values\": 14159,\n        \"samples\": [\n          \"AFFORDABLE ELECTRICAL SERVICES BY SAPIENZA\",\n          \"NATIONAL ENVIRONMENT SAFETY CO.\",\n          \"C M B PLUMBING & HEATING CORP.\"\n        ],\n        \"semantic_type\": \"\",\n        \"description\": \"\"\n      }\n    },\n    {\n      \"column\": \"signatory_address\",\n      \"properties\": {\n        \"dtype\": \"category\",\n        \"num_unique_values\": 12369,\n        \"samples\": [\n          \"11577 BELL HILL ROAD\",\n          \"11 HOLLAND AVENUE # 2\",\n          \"1775 EAST SHADY LANE\"\n        ],\n        \"semantic_type\": \"\",\n        \"description\": \"\"\n      }\n    },\n    {\n      \"column\": \"city\",\n      \"properties\": {\n        \"dtype\": \"category\",\n        \"num_unique_values\": 2454,\n        \"samples\": [\n          \"LAPE HOPATCONG\",\n          \"ST. PETERS\",\n          \"KOKOMO\"\n        ],\n        \"semantic_type\": \"\",\n        \"description\": \"\"\n      }\n    },\n    {\n      \"column\": \"state\",\n      \"properties\": {\n        \"dtype\": \"category\",\n        \"num_unique_values\": 61,\n        \"samples\": [\n          \"NY\",\n          \"MA\",\n          \"NU\"\n        ],\n        \"semantic_type\": \"\",\n        \"description\": \"\"\n      }\n    },\n    {\n      \"column\": \"zip_code\",\n      \"properties\": {\n        \"dtype\": \"category\",\n        \"num_unique_values\": 2725,\n        \"samples\": [\n          \"44706\",\n          \"61953\",\n          \"13131\"\n        ],\n        \"semantic_type\": \"\",\n        \"description\": \"\"\n      }\n    },\n    {\n      \"column\": \"date_signatory_added\",\n      \"properties\": {\n        \"dtype\": \"date\",\n        \"min\": \"1944-11-24 00:00:00\",\n        \"max\": \"2027-01-01 00:00:00\",\n        \"num_unique_values\": 1375,\n        \"samples\": [\n          \"2015-07-17 00:00:00\",\n          \"2019-09-05 00:00:00\",\n          \"2017-07-31 00:00:00\"\n        ],\n        \"semantic_type\": \"\",\n        \"description\": \"\"\n      }\n    },\n    {\n      \"column\": \"source\",\n      \"properties\": {\n        \"dtype\": \"category\",\n        \"num_unique_values\": 2,\n        \"samples\": [\n          \"ACTIVE SPONSORS LIST NYSDOL JAN 2025\",\n          \"GROUP SIGNATORY FOIL NYSDOL OCT 2024\"\n        ],\n        \"semantic_type\": \"\",\n        \"description\": \"\"\n      }\n    }\n  ]\n}",
       "type": "dataframe",
       "variable_name": "df"
      },
      "text/html": [
       "\n",
       "  <div id=\"df-dd8221af-cb2a-4ce7-ad4a-3f5a79486435\" class=\"colab-df-container\">\n",
       "    <div>\n",
       "<style scoped>\n",
       "    .dataframe tbody tr th:only-of-type {\n",
       "        vertical-align: middle;\n",
       "    }\n",
       "\n",
       "    .dataframe tbody tr th {\n",
       "        vertical-align: top;\n",
       "    }\n",
       "\n",
       "    .dataframe thead th {\n",
       "        text-align: right;\n",
       "    }\n",
       "</style>\n",
       "<table border=\"1\" class=\"dataframe\">\n",
       "  <thead>\n",
       "    <tr style=\"text-align: right;\">\n",
       "      <th></th>\n",
       "      <th>sponsor</th>\n",
       "      <th>trade</th>\n",
       "      <th>signatory_name</th>\n",
       "      <th>signatory_address</th>\n",
       "      <th>city</th>\n",
       "      <th>state</th>\n",
       "      <th>zip_code</th>\n",
       "      <th>date_signatory_added</th>\n",
       "      <th>source</th>\n",
       "    </tr>\n",
       "  </thead>\n",
       "  <tbody>\n",
       "    <tr>\n",
       "      <th>0</th>\n",
       "      <td>ASSOCIATED BUILDERS AND CONTRACTORS EMPIRE STATE</td>\n",
       "      <td>CARPENTER</td>\n",
       "      <td>ADW CONSTRUCTION GROUP CORPORATION</td>\n",
       "      <td>46 CHESHIRE RD</td>\n",
       "      <td>BETHPAGE</td>\n",
       "      <td>NY</td>\n",
       "      <td>11714</td>\n",
       "      <td>2022-05-27</td>\n",
       "      <td>GROUP SIGNATORY FOIL NYSDOL OCT 2024</td>\n",
       "    </tr>\n",
       "    <tr>\n",
       "      <th>1</th>\n",
       "      <td>ASSOCIATED BUILDERS AND CONTRACTORS EMPIRE STATE</td>\n",
       "      <td>CARPENTER</td>\n",
       "      <td>AMBUILD SUPPLY, LLC.</td>\n",
       "      <td>6605 PITTSFORD PALMYRA ROAD</td>\n",
       "      <td>FAIRPORT</td>\n",
       "      <td>NY</td>\n",
       "      <td>14450</td>\n",
       "      <td>2021-03-17</td>\n",
       "      <td>GROUP SIGNATORY FOIL NYSDOL OCT 2024</td>\n",
       "    </tr>\n",
       "    <tr>\n",
       "      <th>2</th>\n",
       "      <td>ASSOCIATED BUILDERS AND CONTRACTORS EMPIRE STATE</td>\n",
       "      <td>CARPENTER</td>\n",
       "      <td>AMBUILD SUPPLY, LLC.</td>\n",
       "      <td>6605 PITTSFORD PALMYRA ROAD</td>\n",
       "      <td>FAIRPORT</td>\n",
       "      <td>NY</td>\n",
       "      <td>14450</td>\n",
       "      <td>2024-01-01</td>\n",
       "      <td>GROUP SIGNATORY FOIL NYSDOL OCT 2024</td>\n",
       "    </tr>\n",
       "    <tr>\n",
       "      <th>3</th>\n",
       "      <td>ASSOCIATED BUILDERS AND CONTRACTORS EMPIRE STATE</td>\n",
       "      <td>CARPENTER</td>\n",
       "      <td>ASSOCIATED BUILDERS AND CONTRACTORS EMPIRE STATE</td>\n",
       "      <td>6369 COLLAMER DRIVE</td>\n",
       "      <td>EAST SYRACUSE</td>\n",
       "      <td>NY</td>\n",
       "      <td>13057</td>\n",
       "      <td>2021-07-08</td>\n",
       "      <td>ACTIVE SPONSORS LIST NYSDOL JAN 2025</td>\n",
       "    </tr>\n",
       "    <tr>\n",
       "      <th>4</th>\n",
       "      <td>ASSOCIATED BUILDERS AND CONTRACTORS EMPIRE STATE</td>\n",
       "      <td>CARPENTER</td>\n",
       "      <td>CMI INSTALLATIONS LLC.</td>\n",
       "      <td>718 COUNTY HIGHWAY 126</td>\n",
       "      <td>AMSTERDAM</td>\n",
       "      <td>NY</td>\n",
       "      <td>12010</td>\n",
       "      <td>2024-03-10</td>\n",
       "      <td>GROUP SIGNATORY FOIL NYSDOL OCT 2024</td>\n",
       "    </tr>\n",
       "  </tbody>\n",
       "</table>\n",
       "</div>\n",
       "    <div class=\"colab-df-buttons\">\n",
       "\n",
       "  <div class=\"colab-df-container\">\n",
       "    <button class=\"colab-df-convert\" onclick=\"convertToInteractive('df-dd8221af-cb2a-4ce7-ad4a-3f5a79486435')\"\n",
       "            title=\"Convert this dataframe to an interactive table.\"\n",
       "            style=\"display:none;\">\n",
       "\n",
       "  <svg xmlns=\"http://www.w3.org/2000/svg\" height=\"24px\" viewBox=\"0 -960 960 960\">\n",
       "    <path d=\"M120-120v-720h720v720H120Zm60-500h600v-160H180v160Zm220 220h160v-160H400v160Zm0 220h160v-160H400v160ZM180-400h160v-160H180v160Zm440 0h160v-160H620v160ZM180-180h160v-160H180v160Zm440 0h160v-160H620v160Z\"/>\n",
       "  </svg>\n",
       "    </button>\n",
       "\n",
       "  <style>\n",
       "    .colab-df-container {\n",
       "      display:flex;\n",
       "      gap: 12px;\n",
       "    }\n",
       "\n",
       "    .colab-df-convert {\n",
       "      background-color: #E8F0FE;\n",
       "      border: none;\n",
       "      border-radius: 50%;\n",
       "      cursor: pointer;\n",
       "      display: none;\n",
       "      fill: #1967D2;\n",
       "      height: 32px;\n",
       "      padding: 0 0 0 0;\n",
       "      width: 32px;\n",
       "    }\n",
       "\n",
       "    .colab-df-convert:hover {\n",
       "      background-color: #E2EBFA;\n",
       "      box-shadow: 0px 1px 2px rgba(60, 64, 67, 0.3), 0px 1px 3px 1px rgba(60, 64, 67, 0.15);\n",
       "      fill: #174EA6;\n",
       "    }\n",
       "\n",
       "    .colab-df-buttons div {\n",
       "      margin-bottom: 4px;\n",
       "    }\n",
       "\n",
       "    [theme=dark] .colab-df-convert {\n",
       "      background-color: #3B4455;\n",
       "      fill: #D2E3FC;\n",
       "    }\n",
       "\n",
       "    [theme=dark] .colab-df-convert:hover {\n",
       "      background-color: #434B5C;\n",
       "      box-shadow: 0px 1px 3px 1px rgba(0, 0, 0, 0.15);\n",
       "      filter: drop-shadow(0px 1px 2px rgba(0, 0, 0, 0.3));\n",
       "      fill: #FFFFFF;\n",
       "    }\n",
       "  </style>\n",
       "\n",
       "    <script>\n",
       "      const buttonEl =\n",
       "        document.querySelector('#df-dd8221af-cb2a-4ce7-ad4a-3f5a79486435 button.colab-df-convert');\n",
       "      buttonEl.style.display =\n",
       "        google.colab.kernel.accessAllowed ? 'block' : 'none';\n",
       "\n",
       "      async function convertToInteractive(key) {\n",
       "        const element = document.querySelector('#df-dd8221af-cb2a-4ce7-ad4a-3f5a79486435');\n",
       "        const dataTable =\n",
       "          await google.colab.kernel.invokeFunction('convertToInteractive',\n",
       "                                                    [key], {});\n",
       "        if (!dataTable) return;\n",
       "\n",
       "        const docLinkHtml = 'Like what you see? Visit the ' +\n",
       "          '<a target=\"_blank\" href=https://colab.research.google.com/notebooks/data_table.ipynb>data table notebook</a>'\n",
       "          + ' to learn more about interactive tables.';\n",
       "        element.innerHTML = '';\n",
       "        dataTable['output_type'] = 'display_data';\n",
       "        await google.colab.output.renderOutput(dataTable, element);\n",
       "        const docLink = document.createElement('div');\n",
       "        docLink.innerHTML = docLinkHtml;\n",
       "        element.appendChild(docLink);\n",
       "      }\n",
       "    </script>\n",
       "  </div>\n",
       "\n",
       "\n",
       "<div id=\"df-917b5d2f-577a-4b41-883e-882965e33f69\">\n",
       "  <button class=\"colab-df-quickchart\" onclick=\"quickchart('df-917b5d2f-577a-4b41-883e-882965e33f69')\"\n",
       "            title=\"Suggest charts\"\n",
       "            style=\"display:none;\">\n",
       "\n",
       "<svg xmlns=\"http://www.w3.org/2000/svg\" height=\"24px\"viewBox=\"0 0 24 24\"\n",
       "     width=\"24px\">\n",
       "    <g>\n",
       "        <path d=\"M19 3H5c-1.1 0-2 .9-2 2v14c0 1.1.9 2 2 2h14c1.1 0 2-.9 2-2V5c0-1.1-.9-2-2-2zM9 17H7v-7h2v7zm4 0h-2V7h2v10zm4 0h-2v-4h2v4z\"/>\n",
       "    </g>\n",
       "</svg>\n",
       "  </button>\n",
       "\n",
       "<style>\n",
       "  .colab-df-quickchart {\n",
       "      --bg-color: #E8F0FE;\n",
       "      --fill-color: #1967D2;\n",
       "      --hover-bg-color: #E2EBFA;\n",
       "      --hover-fill-color: #174EA6;\n",
       "      --disabled-fill-color: #AAA;\n",
       "      --disabled-bg-color: #DDD;\n",
       "  }\n",
       "\n",
       "  [theme=dark] .colab-df-quickchart {\n",
       "      --bg-color: #3B4455;\n",
       "      --fill-color: #D2E3FC;\n",
       "      --hover-bg-color: #434B5C;\n",
       "      --hover-fill-color: #FFFFFF;\n",
       "      --disabled-bg-color: #3B4455;\n",
       "      --disabled-fill-color: #666;\n",
       "  }\n",
       "\n",
       "  .colab-df-quickchart {\n",
       "    background-color: var(--bg-color);\n",
       "    border: none;\n",
       "    border-radius: 50%;\n",
       "    cursor: pointer;\n",
       "    display: none;\n",
       "    fill: var(--fill-color);\n",
       "    height: 32px;\n",
       "    padding: 0;\n",
       "    width: 32px;\n",
       "  }\n",
       "\n",
       "  .colab-df-quickchart:hover {\n",
       "    background-color: var(--hover-bg-color);\n",
       "    box-shadow: 0 1px 2px rgba(60, 64, 67, 0.3), 0 1px 3px 1px rgba(60, 64, 67, 0.15);\n",
       "    fill: var(--button-hover-fill-color);\n",
       "  }\n",
       "\n",
       "  .colab-df-quickchart-complete:disabled,\n",
       "  .colab-df-quickchart-complete:disabled:hover {\n",
       "    background-color: var(--disabled-bg-color);\n",
       "    fill: var(--disabled-fill-color);\n",
       "    box-shadow: none;\n",
       "  }\n",
       "\n",
       "  .colab-df-spinner {\n",
       "    border: 2px solid var(--fill-color);\n",
       "    border-color: transparent;\n",
       "    border-bottom-color: var(--fill-color);\n",
       "    animation:\n",
       "      spin 1s steps(1) infinite;\n",
       "  }\n",
       "\n",
       "  @keyframes spin {\n",
       "    0% {\n",
       "      border-color: transparent;\n",
       "      border-bottom-color: var(--fill-color);\n",
       "      border-left-color: var(--fill-color);\n",
       "    }\n",
       "    20% {\n",
       "      border-color: transparent;\n",
       "      border-left-color: var(--fill-color);\n",
       "      border-top-color: var(--fill-color);\n",
       "    }\n",
       "    30% {\n",
       "      border-color: transparent;\n",
       "      border-left-color: var(--fill-color);\n",
       "      border-top-color: var(--fill-color);\n",
       "      border-right-color: var(--fill-color);\n",
       "    }\n",
       "    40% {\n",
       "      border-color: transparent;\n",
       "      border-right-color: var(--fill-color);\n",
       "      border-top-color: var(--fill-color);\n",
       "    }\n",
       "    60% {\n",
       "      border-color: transparent;\n",
       "      border-right-color: var(--fill-color);\n",
       "    }\n",
       "    80% {\n",
       "      border-color: transparent;\n",
       "      border-right-color: var(--fill-color);\n",
       "      border-bottom-color: var(--fill-color);\n",
       "    }\n",
       "    90% {\n",
       "      border-color: transparent;\n",
       "      border-bottom-color: var(--fill-color);\n",
       "    }\n",
       "  }\n",
       "</style>\n",
       "\n",
       "  <script>\n",
       "    async function quickchart(key) {\n",
       "      const quickchartButtonEl =\n",
       "        document.querySelector('#' + key + ' button');\n",
       "      quickchartButtonEl.disabled = true;  // To prevent multiple clicks.\n",
       "      quickchartButtonEl.classList.add('colab-df-spinner');\n",
       "      try {\n",
       "        const charts = await google.colab.kernel.invokeFunction(\n",
       "            'suggestCharts', [key], {});\n",
       "      } catch (error) {\n",
       "        console.error('Error during call to suggestCharts:', error);\n",
       "      }\n",
       "      quickchartButtonEl.classList.remove('colab-df-spinner');\n",
       "      quickchartButtonEl.classList.add('colab-df-quickchart-complete');\n",
       "    }\n",
       "    (() => {\n",
       "      let quickchartButtonEl =\n",
       "        document.querySelector('#df-917b5d2f-577a-4b41-883e-882965e33f69 button');\n",
       "      quickchartButtonEl.style.display =\n",
       "        google.colab.kernel.accessAllowed ? 'block' : 'none';\n",
       "    })();\n",
       "  </script>\n",
       "</div>\n",
       "\n",
       "    </div>\n",
       "  </div>\n"
      ],
      "text/plain": [
       "                                            sponsor      trade  \\\n",
       "0  ASSOCIATED BUILDERS AND CONTRACTORS EMPIRE STATE  CARPENTER   \n",
       "1  ASSOCIATED BUILDERS AND CONTRACTORS EMPIRE STATE  CARPENTER   \n",
       "2  ASSOCIATED BUILDERS AND CONTRACTORS EMPIRE STATE  CARPENTER   \n",
       "3  ASSOCIATED BUILDERS AND CONTRACTORS EMPIRE STATE  CARPENTER   \n",
       "4  ASSOCIATED BUILDERS AND CONTRACTORS EMPIRE STATE  CARPENTER   \n",
       "\n",
       "                                     signatory_name  \\\n",
       "0                ADW CONSTRUCTION GROUP CORPORATION   \n",
       "1                              AMBUILD SUPPLY, LLC.   \n",
       "2                              AMBUILD SUPPLY, LLC.   \n",
       "3  ASSOCIATED BUILDERS AND CONTRACTORS EMPIRE STATE   \n",
       "4                            CMI INSTALLATIONS LLC.   \n",
       "\n",
       "             signatory_address           city state zip_code  \\\n",
       "0               46 CHESHIRE RD       BETHPAGE    NY    11714   \n",
       "1  6605 PITTSFORD PALMYRA ROAD       FAIRPORT    NY    14450   \n",
       "2  6605 PITTSFORD PALMYRA ROAD       FAIRPORT    NY    14450   \n",
       "3          6369 COLLAMER DRIVE  EAST SYRACUSE    NY    13057   \n",
       "4       718 COUNTY HIGHWAY 126      AMSTERDAM    NY    12010   \n",
       "\n",
       "  date_signatory_added                                source  \n",
       "0           2022-05-27  GROUP SIGNATORY FOIL NYSDOL OCT 2024  \n",
       "1           2021-03-17  GROUP SIGNATORY FOIL NYSDOL OCT 2024  \n",
       "2           2024-01-01  GROUP SIGNATORY FOIL NYSDOL OCT 2024  \n",
       "3           2021-07-08  ACTIVE SPONSORS LIST NYSDOL JAN 2025  \n",
       "4           2024-03-10  GROUP SIGNATORY FOIL NYSDOL OCT 2024  "
      ]
     },
     "execution_count": 3,
     "metadata": {},
     "output_type": "execute_result"
    }
   ],
   "source": [
    "df.head()"
   ]
  },
  {
   "cell_type": "code",
   "execution_count": null,
   "metadata": {
    "colab": {
     "base_uri": "https://localhost:8080/"
    },
    "executionInfo": {
     "elapsed": 485,
     "status": "ok",
     "timestamp": 1741555349597,
     "user": {
      "displayName": "Catie Fuentes",
      "userId": "04891715974998585010"
     },
     "user_tz": 240
    },
    "id": "yHOCRRCoyGdY",
    "outputId": "733c214e-cb8d-49b4-e5a4-744decc33716"
   },
   "outputs": [
    {
     "name": "stdout",
     "output_type": "stream",
     "text": [
      "Cleaned data saved at: cleaned_construction_apprentice.csv\n"
     ]
    }
   ],
   "source": [
    "# Save cleaned data to a new file\n",
    "cleaned_file_path = \"../data/processed/cleaned_construction_apprentice.csv\"\n",
    "df.to_csv(cleaned_file_path, index=False)\n",
    "\n",
    "# Print path to saved file\n",
    "print(f\"Cleaned data saved at: {cleaned_file_path}\")"
   ]
  },
  {
   "cell_type": "code",
   "execution_count": 6,
   "metadata": {
    "executionInfo": {
     "elapsed": 58,
     "status": "ok",
     "timestamp": 1741555485042,
     "user": {
      "displayName": "Catie Fuentes",
      "userId": "04891715974998585010"
     },
     "user_tz": 240
    },
    "id": "0P_i731gyfl-"
   },
   "outputs": [],
   "source": [
    "df = df.drop_duplicates()\n"
   ]
  },
  {
   "cell_type": "code",
   "execution_count": 7,
   "metadata": {
    "colab": {
     "base_uri": "https://localhost:8080/"
    },
    "executionInfo": {
     "elapsed": 69,
     "status": "ok",
     "timestamp": 1741555494801,
     "user": {
      "displayName": "Catie Fuentes",
      "userId": "04891715974998585010"
     },
     "user_tz": 240
    },
    "id": "emw0pj-Qy88P",
    "outputId": "e940c2f0-ba7c-4ccc-9513-da9e0808d62a"
   },
   "outputs": [
    {
     "name": "stdout",
     "output_type": "stream",
     "text": [
      "                                               sponsor      trade  \\\n",
      "count                                            32348      32348   \n",
      "unique                                             415         67   \n",
      "top     NORTH ATLANTIC STATES CARPENTERS TRAINING FUND  CARPENTER   \n",
      "freq                                             10910       3702   \n",
      "mean                                               NaN        NaN   \n",
      "min                                                NaN        NaN   \n",
      "25%                                                NaN        NaN   \n",
      "50%                                                NaN        NaN   \n",
      "75%                                                NaN        NaN   \n",
      "max                                                NaN        NaN   \n",
      "\n",
      "                      signatory_name signatory_address      city  state  \\\n",
      "count                          32348             32348     32348  32348   \n",
      "unique                         14159             12369      2454     61   \n",
      "top     C&S TECHNICAL RESOURCES, INC  1750 NEW HIGHWAY  NEW YORK     NY   \n",
      "freq                              24                36      1006  19827   \n",
      "mean                             NaN               NaN       NaN    NaN   \n",
      "min                              NaN               NaN       NaN    NaN   \n",
      "25%                              NaN               NaN       NaN    NaN   \n",
      "50%                              NaN               NaN       NaN    NaN   \n",
      "75%                              NaN               NaN       NaN    NaN   \n",
      "max                              NaN               NaN       NaN    NaN   \n",
      "\n",
      "       zip_code           date_signatory_added  \\\n",
      "count     32348                          32347   \n",
      "unique     2725                            NaN   \n",
      "top       11101                            NaN   \n",
      "freq        485                            NaN   \n",
      "mean        NaN  2015-10-24 17:53:29.360991744   \n",
      "min         NaN            1944-11-24 00:00:00   \n",
      "25%         NaN            2014-07-16 00:00:00   \n",
      "50%         NaN            2015-07-22 00:00:00   \n",
      "75%         NaN            2016-03-25 00:00:00   \n",
      "max         NaN            2027-01-01 00:00:00   \n",
      "\n",
      "                                      source  \n",
      "count                                  32348  \n",
      "unique                                     2  \n",
      "top     GROUP SIGNATORY FOIL NYSDOL OCT 2024  \n",
      "freq                                   31835  \n",
      "mean                                     NaN  \n",
      "min                                      NaN  \n",
      "25%                                      NaN  \n",
      "50%                                      NaN  \n",
      "75%                                      NaN  \n",
      "max                                      NaN  \n"
     ]
    }
   ],
   "source": [
    "print(df.describe(include=\"all\"))\n"
   ]
  },
  {
   "cell_type": "code",
   "execution_count": 8,
   "metadata": {
    "colab": {
     "base_uri": "https://localhost:8080/"
    },
    "executionInfo": {
     "elapsed": 10,
     "status": "ok",
     "timestamp": 1741555512898,
     "user": {
      "displayName": "Catie Fuentes",
      "userId": "04891715974998585010"
     },
     "user_tz": 240
    },
    "id": "5UwXqa94zAFl",
    "outputId": "3ed7b727-a57b-42fe-b190-d26fdc2b8ddf"
   },
   "outputs": [
    {
     "name": "stdout",
     "output_type": "stream",
     "text": [
      "['CARPENTER' 'DRY WALL TAPER (FINISHER)' 'ELECTRICIAN'\n",
      " 'IRON WORKER (OUTSIDE)' 'OPTG. ENGINEER (HEAVY EQUIPMENT)'\n",
      " 'PAINTER AND DECORATOR' 'PLUMBER' 'ROOFER' 'SHEET METAL WORKER'\n",
      " 'SKILLED CONSTRUCTION CRAFT LABORER' 'CEMENT FINISHER OR CEMENT MASON'\n",
      " 'CARPENTER (HEAVY-HIGHWAY)' 'OPTG. ENGINEER (GRADE AND PAVING EQUIP)'\n",
      " 'WELDER (INDUSTRIAL)' 'STEAMFITTER'\n",
      " 'HEATING, VENTILATION AND AIR CONDITIONING MECHANIC'\n",
      " 'PLUMBER AND PIPEFITTER' 'INSULATION AND ASBESTOS WORKER'\n",
      " 'SPRINKLER FITTER' 'BRICKLAYER, MASON' 'POINTER, CAULKER AND CLEANER'\n",
      " 'TILE SETTER (4 YEAR)' 'TILE, MARBLE AND TERRAZZO FINISHER'\n",
      " 'PLUMBER AND STEAMFITTER' 'BOILERMAKER (CONSTRUCTION)' 'PLASTERER'\n",
      " 'STONE MASON' 'BRICKLAYER MASON AND PLASTERER' 'TILE SETTER (3 YEAR)'\n",
      " 'HEATING, VENTILATION, AND AIR CONDITIONING MECHANIC' 'CABINETMAKER'\n",
      " 'CARPENTER(PILEDRIVER/DOCKBUILDER'\n",
      " 'LINOLEUM, RESILIENT TILE AND CARPET LAYER' 'MILLWRIGHT' 'PIPEFITTER'\n",
      " 'ELECTRICAL (OUTSIDE) LINE WORKER' 'STATIONARY ENGINEER'\n",
      " 'ELECTRICIAN (HOUSEWIRE OR RESIDENTIAL)'\n",
      " 'ELEVATOR/ESCALATOR CONSTRUCTOR & MODERNIZER'\n",
      " 'ELEVATOR/ESCALATOR CONSTRUCTOR &\\nMODERNIZER'\n",
      " 'OPTG. ENGINEER (UNIVERSAL EQUIPMENT)' 'GLAZIER' 'METAL REFINISHER'\n",
      " 'PAINTER AND DECORATOR (STRUCTURAL STEEL-\\nBRIDGES)'\n",
      " 'PAINTER AND DECORATOR (STRUCTURAL STEEL-BRIDGES)'\n",
      " 'PAINTER, DECORATOR & PAPERHANGER' 'TRUCK DRIVER, HEAVY'\n",
      " 'ELECTRICAL MAINTENANCE TECHNICIAN'\n",
      " 'REFRIGERATION AND AIR CONDITIONING MECHANIC'\n",
      " 'REFRIGERATION AND AIR CONDITIONING\\nMECHANIC'\n",
      " 'HAZARDOUS MATERIALS REMOVAL WORKER' 'ORNAMENTAL IRON WORKER'\n",
      " 'LATHER (WOOD, WIRE AND METAL)' 'ELECTRICAL UTILITY OPERATOR'\n",
      " 'LATHER (CARPENTER)' 'SHEET METAL WORKER (IRON PLATE)'\n",
      " 'OPERATING ENGINEER (UNIVERSAL EQUIPMENT)'\n",
      " 'HEATING, VENTILATION AND AIR CONDITIONING\\nMECHANIC'\n",
      " 'PLUMBER (PUMP AND TANK)' 'PLUMBER (RESIDENTIAL)' 'TRUCK DRIVER (HEAVY)'\n",
      " 'SHEET METAL WORKER (SIGN HANGER-RIGGER)'\n",
      " 'MARBLE, CARVER, CUTTER AND SETTER' 'TERRAZZO WORKER'\n",
      " 'IRON WORKER (STONE DERRICKMAN AND\\nRIGGER)'\n",
      " 'IRON WORKER (STONE DERRICKMAN AND RIGGER)'\n",
      " 'ELECTRICAL (OUTSIDE) LINEWORKER']\n",
      "state\n",
      "NY    19827\n",
      "NJ     7020\n",
      "PA     1470\n",
      "CT      520\n",
      "MA      486\n",
      "      ...  \n",
      "P.        1\n",
      "ID        1\n",
      "SD        1\n",
      "MJ        1\n",
      "N.        1\n",
      "Name: count, Length: 61, dtype: int64\n"
     ]
    }
   ],
   "source": [
    "print(df[\"trade\"].unique())\n",
    "print(df[\"state\"].value_counts())\n"
   ]
  },
  {
   "cell_type": "code",
   "execution_count": 9,
   "metadata": {
    "colab": {
     "base_uri": "https://localhost:8080/",
     "height": 783
    },
    "executionInfo": {
     "elapsed": 489,
     "status": "ok",
     "timestamp": 1741555531882,
     "user": {
      "displayName": "Catie Fuentes",
      "userId": "04891715974998585010"
     },
     "user_tz": 240
    },
    "id": "8tCsTcDczFc9",
    "outputId": "c560d1dc-c6fb-4fb0-dd6f-62d65d1bc8db"
   },
   "outputs": [
    {
     "data": {
      "image/png": "[encoded data removed]",
      "text/plain": [
       "<Figure size 640x480 with 1 Axes>"
      ]
     },
     "metadata": {},
     "output_type": "display_data"
    }
   ],
   "source": [
    "import matplotlib.pyplot as plt\n",
    "\n",
    "df[\"trade\"].value_counts().head(10).plot(kind=\"bar\", title=\"Top 10 Trades\")\n",
    "plt.show()\n"
   ]
  },
  {
   "cell_type": "code",
   "execution_count": 13,
   "metadata": {
    "colab": {
     "base_uri": "https://localhost:8080/",
     "height": 472
    },
    "executionInfo": {
     "elapsed": 600,
     "status": "ok",
     "timestamp": 1741555595665,
     "user": {
      "displayName": "Catie Fuentes",
      "userId": "04891715974998585010"
     },
     "user_tz": 240
    },
    "id": "n0MhV5bpzW4E",
    "outputId": "164cea7c-07dc-4736-9791-616800e4b6a3"
   },
   "outputs": [
    {
     "data": {
      "image/png": "[encoded data removed]",
      "text/plain": [
       "<Figure size 640x480 with 1 Axes>"
      ]
     },
     "metadata": {},
     "output_type": "display_data"
    }
   ],
   "source": [
    "df[\"year\"] = df[\"date_signatory_added\"].dt.year\n",
    "df[\"year\"].value_counts().sort_index().plot(kind=\"line\", title=\"Signatory Growth Over Time\")\n",
    "plt.show()\n"
   ]
  }
 ],
 "metadata": {
  "colab": {
   "authorship_tag": "ABX9TyMnzAEHuRScHREo6DIQqeFG",
   "provenance": []
  },
  "kernelspec": {
   "display_name": "Python 3",
   "name": "python3"
  },
  "language_info": {
   "name": "python"
  }
 },
 "nbformat": 4,
 "nbformat_minor": 0
}
