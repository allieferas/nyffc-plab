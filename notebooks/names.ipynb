{
 "cells": [
  {
   "cell_type": "code",
   "execution_count": null,
   "metadata": {},
   "outputs": [],
   "source": [
    "# name cleanup...\n",
    "# lower case\n",
    "# turn ampersand to \"and\"\n",
    "# shorten anything \"incorporated\" should be inc\n",
    "# \"limited liability company\" to llc?\n",
    "# other company specific weirdnesses?\n",
    "# then, remove all other punct\n",
    "\n",
    "# address parsing\n",
    "# lower case\n",
    "# how to parse and normalize? based on punct, state abbreve? or just keep whole string and do general cleanup?\n",
    "\n",
    "# fuzzy wuzzy package for matching strings\n",
    "\n",
    "# CompanyMap lazy learning object with data for seen companies\n",
    "# CompanyMap.classify takes in any of name, DBA, address info and assigns an ID with confidence score.\n",
    "# update for editing bad learnings\n"
   ]
  },
  {
   "cell_type": "code",
   "execution_count": 1,
   "metadata": {},
   "outputs": [],
   "source": [
    "import sys\n",
    "import os\n",
    "project_root = os.path.abspath('..')\n",
    "if project_root not in sys.path:\n",
    "    sys.path.append(project_root)\n",
    "\n",
    "from src.mapping import CompanyMap\n",
    "import pandas as pd\n"
   ]
  },
  {
   "cell_type": "code",
   "execution_count": 2,
   "metadata": {},
   "outputs": [],
   "source": [
    "df = pd.read_csv('../data/processed/NYSDOL_debarment_02_19_2025.csv')"
   ]
  },
  {
   "cell_type": "code",
   "execution_count": 3,
   "metadata": {},
   "outputs": [],
   "source": [
    "c = CompanyMap()\n",
    "\n",
    "df = df.rename(columns={'EMPLOYER_NAME':'NAME','EMPLOYER_DBA':'DBA'})\n",
    "c.fit(df[['NAME','DBA','ADDRESS']])"
   ]
  },
  {
   "cell_type": "code",
   "execution_count": 4,
   "metadata": {},
   "outputs": [
    {
     "data": {
      "text/plain": [
       "0         [0]\n",
       "1         [1]\n",
       "2         [2]\n",
       "3         [3]\n",
       "4      [4, 5]\n",
       "        ...  \n",
       "202     [116]\n",
       "203     [173]\n",
       "204     [173]\n",
       "205     [174]\n",
       "206     [175]\n",
       "Name: match_indices, Length: 207, dtype: object"
      ]
     },
     "execution_count": 4,
     "metadata": {},
     "output_type": "execute_result"
    }
   ],
   "source": [
    "mat = c.match(df[['NAME','DBA','ADDRESS']])\n",
    "\n",
    "mat"
   ]
  },
  {
   "cell_type": "code",
   "execution_count": null,
   "metadata": {},
   "outputs": [],
   "source": []
  }
 ],
 "metadata": {
  "kernelspec": {
   "display_name": ".venv",
   "language": "python",
   "name": "python3"
  },
  "language_info": {
   "codemirror_mode": {
    "name": "ipython",
    "version": 3
   },
   "file_extension": ".py",
   "mimetype": "text/x-python",
   "name": "python",
   "nbconvert_exporter": "python",
   "pygments_lexer": "ipython3",
   "version": "3.10.8"
  }
 },
 "nbformat": 4,
 "nbformat_minor": 2
}
